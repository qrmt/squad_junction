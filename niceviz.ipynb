{
 "cells": [
  {
   "cell_type": "code",
   "execution_count": 193,
   "metadata": {
    "collapsed": true
   },
   "outputs": [],
   "source": [
    "import matplotlib.pyplot as plt\n",
    "import numpy as np\n",
    "import pandas as pd\n",
    "import time\n",
    "import os\n",
    "from IPython.core.debugger import set_trace\n",
    "%matplotlib notebook"
   ]
  },
  {
   "cell_type": "code",
   "execution_count": 191,
   "metadata": {
    "collapsed": true
   },
   "outputs": [],
   "source": [
    "BASE_PATH = './pack/data/matches/'"
   ]
  },
  {
   "cell_type": "code",
   "execution_count": 2,
   "metadata": {
    "collapsed": true
   },
   "outputs": [],
   "source": [
    "def find_nearest_idx(array,value):\n",
    "    idx = (np.abs(array-value)).argmin()\n",
    "    return idx"
   ]
  },
  {
   "cell_type": "code",
   "execution_count": 189,
   "metadata": {
    "collapsed": true
   },
   "outputs": [],
   "source": [
    "class Game():\n",
    "    def __init__(self, game_id):\n",
    "        self.game_id = game_id\n",
    "        self.players = None # Dictionary with keys of player ids\n",
    "        self.events = None # List of events\n",
    "        self.id_data = None\n",
    "        self.id_kills = None\n",
    "        self.constructGame(game_id)\n",
    "        \n",
    "    def constructGame(self, game_id):\n",
    "        dataFile = BASE_PATH + game_id + '/ticks.csv'\n",
    "        id_data = pd.read_csv(dataFile)\n",
    "        self.id_data = id_data\n",
    "        \n",
    "        killFile = BASE_PATH + game_id + '/kills.csv'\n",
    "        id_kills = pd.read_csv(killFile)\n",
    "        self.id_kills = id_kills\n",
    "        \n",
    "        self.loadPlayers()\n",
    "        self.loadEvents()\n",
    "    \n",
    "    def loadPlayers(self):\n",
    "        killer_ids = np.unique(self.id_kills['killer_recording_id'])\n",
    "\n",
    "        killers = {}\n",
    "        for killer in killer_ids:\n",
    "            kills = self.id_kills['killer_recording_id'] == killer\n",
    "            killers[killer] = self.id_kills[kills]\n",
    "\n",
    "        player_ids = np.unique(self.id_data['recording_id'])\n",
    "\n",
    "        players = {}\n",
    "\n",
    "        for player_id in player_ids:\n",
    "            player = Player(player_id)\n",
    "\n",
    "            # Save player's ticks\n",
    "            tick_indices = self.id_data['recording_id'] == player_id\n",
    "            player.tick_indices = tick_indices\n",
    "\n",
    "            # gathering all the player's kills\n",
    "            kill_indices = self.id_kills['killer_recording_id'] == player_id\n",
    "            player.kill_indices = kill_indices\n",
    "\n",
    "            # Save kill timestamps\n",
    "            kill_stamps = self.player_kill_ticks(player.tick_indices, player.kill_indices)\n",
    "            player.kill_stamps = kill_stamps\n",
    "\n",
    "            players[player_id] = player\n",
    "\n",
    "        self.players = players\n",
    "    \n",
    "    def loadEvents(self):\n",
    "\n",
    "        def event_tick_index(player_id, event_stamp):\n",
    "            ticks_indices = self.id_data['recording_id'] == player_id\n",
    "            player_timestamps = self.id_data['timestamp'][ticks_indices]\n",
    "            tick_index = find_nearest_idx(player_timestamps, event_stamp)\n",
    "            return tick_index\n",
    "\n",
    "        # Construct events\n",
    "        events = []\n",
    "        for idx in range(0, len(self.id_kills)):\n",
    "            row = self.id_kills.iloc[idx]\n",
    "            event_id = idx\n",
    "            killer_id = row['killer_recording_id']\n",
    "            victim_id = row['victim_recording_id']\n",
    "            kill_stamp = row['timestamp']\n",
    "            killer_tick_index = event_tick_index(killer_id, kill_stamp)\n",
    "            victim_tick_index = event_tick_index(victim_id, kill_stamp)\n",
    "            event = Event(event_id, killer_tick_index, victim_tick_index, killer_id, victim_id)\n",
    "            events.append(event)\n",
    "        \n",
    "        self.events = events\n",
    "        \n",
    "    def player_kill_ticks(self, tick_indices, kill_indices):\n",
    "\n",
    "        kill_stamps = self.id_kills['timestamp'][kill_indices]\n",
    "        timestamps = self.id_data['timestamp'][tick_indices]\n",
    "        kill_ticks_stamps = []\n",
    "        for i, kill_stamp in enumerate(kill_stamps):    \n",
    "            kill_tick_idx = find_nearest_idx(timestamps, kill_stamp)\n",
    "            kill_ticks_stamps.append(timestamps[kill_tick_idx])\n",
    "        return kill_ticks_stamps\n"
   ]
  },
  {
   "cell_type": "code",
   "execution_count": 4,
   "metadata": {
    "collapsed": true
   },
   "outputs": [],
   "source": [
    "class Player():\n",
    "    def __init__(self, player_id):\n",
    "        self.player_id = player_id\n",
    "        self.tick_indices = None\n",
    "        self.kill_indices = None\n",
    "        self.kill_stamps = None\n"
   ]
  },
  {
   "cell_type": "code",
   "execution_count": 179,
   "metadata": {
    "collapsed": true
   },
   "outputs": [],
   "source": [
    "class Event():\n",
    "    # Kill event\n",
    "    def __init__(self, event_id, killer_tick_index, victim_tick_index, killer_id, victim_id):\n",
    "        self.event_id = event_id\n",
    "        self.killer_id = killer_id\n",
    "        self.victim_id = victim_id\n",
    "        self.killer_tick_index = killer_tick_index # Index for tick for killer\n",
    "        self.victim_tick_index = victim_tick_index\n",
    "        \n",
    "    def getKillerTimestamp(self):\n",
    "        return id_data.iloc[self.killer_tick_index]['timestamp']\n",
    "    \n",
    "    def getVictimTimestamp(self):\n",
    "        return id_data.iloc[self.victim_tick_index]['timestamp']\n",
    "    \n",
    "    def player_kill_pos():\n",
    "        pos_x = id_data['pos_x'][self.killer_tick_index]\n",
    "        pos_y = id_data['pos_y'][self.killer_tick_index]\n",
    "        return float(pos_x), float(pos_y)\n",
    "    \n",
    "    def player_death_pos():\n",
    "        pos_x = id_data['pos_x'][self.victim_tick_index]\n",
    "        pos_y = id_data['pos_y'][self.victim_tick_index]\n",
    "        return float(pos_x), float(pos_y)\n",
    "        "
   ]
  },
  {
   "cell_type": "code",
   "execution_count": 190,
   "metadata": {},
   "outputs": [
    {
     "name": "stderr",
     "output_type": "stream",
     "text": [
      "/Library/Python/2.7/site-packages/ipykernel_launcher.py:2: FutureWarning: 'argmin' is deprecated. Use 'idxmin' instead. The behavior of 'argmin' will be corrected to return the positional minimum in the future. Use 'series.values.argmin' to get the position of the minimum now.\n",
      "  \n"
     ]
    }
   ],
   "source": [
    "os.walk(directory)\n",
    "\n",
    "# Construct game\n",
    "game = Game('37549105')"
   ]
  },
  {
   "cell_type": "code",
   "execution_count": 202,
   "metadata": {},
   "outputs": [
    {
     "name": "stderr",
     "output_type": "stream",
     "text": [
      "/Library/Python/2.7/site-packages/ipykernel_launcher.py:2: FutureWarning: 'argmin' is deprecated. Use 'idxmin' instead. The behavior of 'argmin' will be corrected to return the positional minimum in the future. Use 'series.values.argmin' to get the position of the minimum now.\n",
      "  \n"
     ]
    },
    {
     "name": "stdout",
     "output_type": "stream",
     "text": [
      "Loaded game 0 of 11\n",
      "Loaded game 1 of 11\n",
      "Loaded game 2 of 11\n",
      "Loaded game 3 of 11\n",
      "Loaded game 4 of 11\n",
      "Loaded game 5 of 11\n",
      "Loaded game 6 of 11\n",
      "Loaded game 7 of 11\n",
      "Loaded game 8 of 11\n",
      "Loaded game 9 of 11\n"
     ]
    }
   ],
   "source": [
    "games = []\n",
    "\n",
    "matches = os.listdir(BASE_PATH)\n",
    "idx = 1\n",
    "total_matches = len(matches)\n",
    "# Assumes that all items in this directory are match folders\n",
    "for match_id in matches:\n",
    "    if match_id[0] == '.':\n",
    "        # Skip .DS_Store file\n",
    "        total_matches -= 1\n",
    "        continue\n",
    "        \n",
    "    game = Game(match_id)\n",
    "    games.append(game)\n",
    "    \n",
    "    print 'Loaded game ' + str(idx) + ' of ' + str(total_matches)\n",
    "    idx += 1\n",
    "    "
   ]
  },
  {
   "cell_type": "code",
   "execution_count": null,
   "metadata": {
    "collapsed": true,
    "scrolled": false
   },
   "outputs": [],
   "source": [
    "# plot kills\n",
    "\n",
    "fig = plt.figure()\n",
    "ax = fig.add_axes([0, 0, 1, 1])\n",
    "# ([0, 0, 1, 1])\n",
    "bg_figname = 'minimap_true.png'\n",
    "img = plt.imread(bg_figname)\n",
    "axis_extent = (-246400, 159990,\n",
    "               -266400, 140000)\n",
    "ax.imshow(img, extent=axis_extent)\n",
    "for player_key in players:\n",
    "    player = players[player_key]\n",
    "    pos_x =  []\n",
    "    pos_y =  []\n",
    "    #player_kill_stamps = player['kill_stamps']\n",
    "    player_kill_stamps = player.kill_stamps\n",
    "    if player_kill_stamps:\n",
    "        indices = []\n",
    "        for stamp in player_kill_stamps:\n",
    "            x,y = player_kill_pos(player_key, stamp)\n",
    "            pos_x.append(x)\n",
    "            pos_y.append(y)\n",
    "\n",
    "        ax.scatter(pos_x, pos_y, c='r', s=5)"
   ]
  },
  {
   "cell_type": "code",
   "execution_count": null,
   "metadata": {
    "collapsed": true,
    "scrolled": false
   },
   "outputs": [],
   "source": [
    "# plot movement\n",
    "fig = plt.figure()\n",
    "ax = fig.add_axes([0, 0, 1, 1])\n",
    "# ([0, 0, 1, 1])\n",
    "bg_figname = 'minimap_true.png'\n",
    "img = plt.imread(bg_figname)\n",
    "axis_extent = (-246400, 159990,\n",
    "               -266400, 140000)\n",
    "ax.imshow(img, extent=axis_extent)\n",
    "\n",
    "for player_key in players:\n",
    "    player = players[player_key]\n",
    "    player_indices = player.tick_indices\n",
    "    pos_x = id_data['pos_x'][player_indices]\n",
    "    pos_y = id_data['pos_y'][player_indices]\n",
    "    ax.scatter(pos_x, pos_y, c=np.random.rand(3,), s=1)"
   ]
  },
  {
   "cell_type": "code",
   "execution_count": null,
   "metadata": {
    "collapsed": true
   },
   "outputs": [],
   "source": [
    "# Combined plot\n"
   ]
  }
 ],
 "metadata": {
  "kernelspec": {
   "display_name": "Python 2",
   "language": "python",
   "name": "python2"
  },
  "language_info": {
   "codemirror_mode": {
    "name": "ipython",
    "version": 2
   },
   "file_extension": ".py",
   "mimetype": "text/x-python",
   "name": "python",
   "nbconvert_exporter": "python",
   "pygments_lexer": "ipython2",
   "version": "2.7.10"
  }
 },
 "nbformat": 4,
 "nbformat_minor": 2
}
