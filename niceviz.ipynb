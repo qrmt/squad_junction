{
 "cells": [
  {
   "cell_type": "code",
   "execution_count": null,
   "metadata": {
    "collapsed": true
   },
   "outputs": [],
   "source": [
    "import matplotlib.pyplot as plt\n",
    "import numpy as np\n",
    "import pandas as pd\n",
    "import time\n",
    "import os\n",
    "from IPython.core.debugger import set_trace\n",
    "%matplotlib notebook"
   ]
  },
  {
   "cell_type": "code",
   "execution_count": null,
   "metadata": {
    "collapsed": true
   },
   "outputs": [],
   "source": [
    "BASE_PATH = './pack/data/matches/'"
   ]
  },
  {
   "cell_type": "code",
   "execution_count": null,
   "metadata": {
    "collapsed": true
   },
   "outputs": [],
   "source": [
    "def find_nearest_idx(array,value):\n",
    "    idx = (np.abs(array-value)).argmin()\n",
    "    return idx"
   ]
  },
  {
   "cell_type": "code",
   "execution_count": null,
   "metadata": {
    "collapsed": true
   },
   "outputs": [],
   "source": [
    "class Game():\n",
    "    def __init__(self, game_id):\n",
    "        self.game_id = game_id\n",
    "        self.players = None # Dictionary with keys of player ids\n",
    "        self.events = None # List of events\n",
    "        self.id_data = None\n",
    "        self.id_kills = None\n",
    "        self.constructGame(game_id)\n",
    "        \n",
    "    def constructGame(self, game_id):\n",
    "        dataFile = BASE_PATH + game_id + '/ticks.csv'\n",
    "        id_data = pd.read_csv(dataFile)\n",
    "        self.id_data = id_data\n",
    "                \n",
    "        killFile = BASE_PATH + game_id + '/kills.csv'\n",
    "        id_kills = pd.read_csv(killFile)\n",
    "        self.id_kills = id_kills\n",
    "        \n",
    "        self.loadPlayers()\n",
    "        self.loadEvents()\n",
    "    \n",
    "    def loadPlayers(self):\n",
    "        killer_ids = np.unique(self.id_kills['killer_recording_id'])\n",
    "\n",
    "        killers = {}\n",
    "        for killer in killer_ids:\n",
    "            kills = self.id_kills['killer_recording_id'] == killer\n",
    "            killers[killer] = self.id_kills[kills]\n",
    "\n",
    "        player_ids = np.unique(self.id_data['recording_id'])\n",
    "\n",
    "        players = {}\n",
    "\n",
    "        for player_id in player_ids:\n",
    "            player = Player(player_id)\n",
    "\n",
    "            # Save player's ticks\n",
    "            tick_indices = self.id_data['recording_id'] == player_id\n",
    "            player.tick_indices = tick_indices\n",
    "\n",
    "            # gathering all the player's kills\n",
    "            kill_indices = self.id_kills['killer_recording_id'] == player_id\n",
    "            player.kill_indices = kill_indices\n",
    "\n",
    "            # Save kill timestamps\n",
    "            kill_stamps = self.player_kill_ticks(player.tick_indices, player.kill_indices)\n",
    "            player.kill_stamps = kill_stamps\n",
    "\n",
    "            players[player_id] = player\n",
    "\n",
    "        self.players = players\n",
    "    \n",
    "    def loadEvents(self):\n",
    "\n",
    "        def event_tick_index(player_id, event_stamp):\n",
    "            ticks_indices = self.id_data['recording_id'] == player_id\n",
    "            player_timestamps = self.id_data['timestamp'][ticks_indices]\n",
    "            tick_index = find_nearest_idx(player_timestamps, event_stamp)\n",
    "            return tick_index\n",
    "\n",
    "        # Construct events\n",
    "        events = {}\n",
    "        for idx in range(0, len(self.id_kills)):\n",
    "            row = self.id_kills.iloc[idx]\n",
    "            event_id = idx\n",
    "            killer_id = row['killer_recording_id']\n",
    "            victim_id = row['victim_recording_id']\n",
    "            kill_stamp = row['timestamp']\n",
    "            killer_tick_index = event_tick_index(killer_id, kill_stamp)\n",
    "            victim_tick_index = event_tick_index(victim_id, kill_stamp)\n",
    "            event = Event(event_id, killer_tick_index, victim_tick_index, killer_id, victim_id)\n",
    "            events[event_id] = event\n",
    "        \n",
    "        self.events = events\n",
    "        \n",
    "    def player_kill_ticks(self, tick_indices, kill_indices):\n",
    "\n",
    "        kill_stamps = self.id_kills['timestamp'][kill_indices]\n",
    "        timestamps = self.id_data['timestamp'][tick_indices]\n",
    "        kill_ticks_stamps = []\n",
    "        for i, kill_stamp in enumerate(kill_stamps):    \n",
    "            kill_tick_idx = find_nearest_idx(timestamps, kill_stamp)\n",
    "            kill_ticks_stamps.append(timestamps[kill_tick_idx])\n",
    "        return kill_ticks_stamps\n",
    "    \n",
    "    def player_kill_events(self, player_id):\n",
    "        events = {}\n",
    "        for event_key in self.events:\n",
    "            event = events[event_key]\n",
    "            if (event[killer_id] == player_id):\n",
    "                timestamp = event.getKillerTimestamp()\n",
    "                victim_id = event.victim_id\n",
    "                events.add([timestamp, victim_id])\n",
    "        return events\n",
    "    \n",
    "    def player_death_events(self, player_id, ):\n",
    "        events = {}\n",
    "        for event_key in self.events:\n",
    "            event = events[event_key]\n",
    "            if (event[victim_id] == player_id):\n",
    "                timestamp = event.getVictimTimestamp()\n",
    "                killer_id = event.killer_id\n",
    "                events.add([timestamp, killer_id])\n",
    "        return events\n",
    "        \n",
    "    def player_log(self, player_id):\n",
    "        player = self.players[player_id]\n",
    "        moves = player.list_moves(self.id_data)\n",
    "        return moves\n",
    "    \n",
    "    def build_game_log(self):\n",
    "        log = {'players_log':{},\n",
    "              'events_log': {}}\n",
    "        for player_id in self.players:\n",
    "            log['players_log'][player_id] = player_log(player_id)\n",
    "            for event_log in player_kill_events(player_id):\n",
    "                timestamp = event_log[0]\n",
    "                victim = event_log[1]\n",
    "                log['players_log'][player_id][timestamp]['kill'] = True\n",
    "                log['players_log'][player_id][timestamp]['victim'] = victim\n",
    "\n",
    "            for event_log in player_kill_events(player_id):\n",
    "                timestamp = event_log[0]\n",
    "                killer = event_log[1]\n",
    "                log['players_log'][player_id][timestamp]['death'] = True\n",
    "                log['players_log'][player_id][timestamp]['killer'] = victim\n",
    "\n",
    "        return log"
   ]
  },
  {
   "cell_type": "code",
   "execution_count": null,
   "metadata": {
    "collapsed": true
   },
   "outputs": [],
   "source": [
    "class Player():\n",
    "    def __init__(self, player_id):\n",
    "        self.player_id = player_id\n",
    "        self.tick_indices = None\n",
    "        self.kill_indices = None\n",
    "        self.kill_stamps = None\n",
    "    \n",
    "    def list_moves(self, id_data):\n",
    "        player_ticks = id_data[self.tick_indices]\n",
    "        moves = {}\n",
    "        for step in player_ticks:\n",
    "            timestep = step['timestep']\n",
    "            moves[timestep] = {step}\n",
    "        return moves"
   ]
  },
  {
   "cell_type": "code",
   "execution_count": null,
   "metadata": {
    "collapsed": true
   },
   "outputs": [],
   "source": [
    "class Event():\n",
    "    # Kill event\n",
    "    def __init__(self, event_id, killer_tick_index, victim_tick_index, killer_id, victim_id):\n",
    "        self.event_id = event_id\n",
    "        self.killer_id = killer_id\n",
    "        self.victim_id = victim_id\n",
    "        self.killer_tick_index = killer_tick_index # Index for tick for killer\n",
    "        self.victim_tick_index = victim_tick_index\n",
    "        \n",
    "    def getKillerTimestamp(self, id_data):\n",
    "        return id_data.iloc[self.killer_tick_index]['timestamp']\n",
    "    \n",
    "    def getVictimTimestamp(self, id_data):\n",
    "        return id_data.iloc[self.victim_tick_index]['timestamp']\n",
    "    \n",
    "    def player_kill_pos(self, id_data):\n",
    "        pos_x = id_data['pos_x'][self.killer_tick_index]\n",
    "        pos_y = id_data['pos_y'][self.killer_tick_index]\n",
    "        return float(pos_x), float(pos_y)\n",
    "    \n",
    "    def player_death_pos(self, id_data):\n",
    "        pos_x = id_data['pos_x'][self.victim_tick_index]\n",
    "        pos_y = id_data['pos_y'][self.victim_tick_index]\n",
    "        return float(pos_x), float(pos_y)\n",
    "        "
   ]
  },
  {
   "cell_type": "code",
   "execution_count": null,
   "metadata": {
    "collapsed": true
   },
   "outputs": [],
   "source": []
  },
  {
   "cell_type": "code",
   "execution_count": null,
   "metadata": {
    "collapsed": true
   },
   "outputs": [],
   "source": []
  },
  {
   "cell_type": "code",
   "execution_count": null,
   "metadata": {
    "collapsed": true
   },
   "outputs": [],
   "source": []
  },
  {
   "cell_type": "code",
   "execution_count": null,
   "metadata": {
    "collapsed": true
   },
   "outputs": [],
   "source": []
  },
  {
   "cell_type": "code",
   "execution_count": null,
   "metadata": {},
   "outputs": [],
   "source": [
    "games = []\n",
    "\n",
    "matches = os.listdir(BASE_PATH)\n",
    "idx = 1\n",
    "total_matches = len(matches)\n",
    "# Assumes that all items in this directory are match folders\n",
    "for match_id in matches:\n",
    "    if match_id[0] == '.':\n",
    "        # Skip .DS_Store file\n",
    "        total_matches -= 1\n",
    "        continue\n",
    "    \n",
    "    game = Game(match_id)\n",
    "    games.append(game)\n",
    "    \n",
    "    print 'Loaded game ' + str(idx) + ' of ' + str(total_matches)\n",
    "    idx += 1\n",
    "    \n",
    "    if idx > 5:\n",
    "        break\n",
    "    "
   ]
  },
  {
   "cell_type": "code",
   "execution_count": null,
   "metadata": {},
   "outputs": [],
   "source": [
    "\n",
    "\n"
   ]
  },
  {
   "cell_type": "code",
   "execution_count": null,
   "metadata": {
    "scrolled": false
   },
   "outputs": [],
   "source": [
    "# plot kills\n",
    "\n",
    "fig = plt.figure()\n",
    "ax = fig.add_axes([0, 0, 1, 1])\n",
    "# ([0, 0, 1, 1])\n",
    "bg_figname = 'foolsaas_v1.png'\n",
    "img = plt.imread(bg_figname)\n",
    "axis_extent = (-246400, 159990,\n",
    "               -266400, 140000)\n",
    "\n",
    "idx = 1\n",
    "for game in games:\n",
    "    plt.subplot(len(games), 2, idx)\n",
    "    plt.imshow(img, extent=axis_extent)\n",
    "    position_data_x = []\n",
    "    position_data_y = []\n",
    "\n",
    "\n",
    "    for event in game.events:\n",
    "        event = game.events[event]\n",
    "        pos_x, pos_y = event.player_kill_pos(game.id_data)\n",
    "        plt.scatter(pos_x, pos_y, c='r', s=5)\n",
    "        position_data_x.append(pos_x)\n",
    "        position_data_y.append(pos_y)\n",
    "        \n",
    "    heatmap, xedges, yedges = np.histogram2d(position_data_x, position_data_y, bins=50)\n",
    "    extent = [xedges[0], xedges[-1], yedges[0], yedges[-1]]\n",
    "    plt.subplot(len(games), 2, idx+1)\n",
    "    plt.imshow(heatmap.T, extent=extent, origin='lower')\n",
    "    plt.show()\n",
    "\n",
    "\n",
    "    \n",
    "    idx += 2\n"
   ]
  },
  {
   "cell_type": "code",
   "execution_count": null,
   "metadata": {
    "scrolled": false
   },
   "outputs": [],
   "source": [
    "# plot movement\n",
    "fig = plt.figure()\n",
    "ax = fig.add_axes([0, 0, 1, 1])\n",
    "# ([0, 0, 1, 1])\n",
    "bg_figname = 'foolsaas_v1.png'\n",
    "img = plt.imread(bg_figname)\n",
    "axis_extent = (-246400, 159990,\n",
    "               -266400, 140000)\n",
    "ax.imshow(img, extent=axis_extent)\n",
    "\n",
    "for player_key in games[0].players:\n",
    "    player = games[0].players[player_key]\n",
    "    player_indices = player.tick_indices\n",
    "    pos_x = games[0].id_data['pos_x'][player_indices]\n",
    "    pos_y = games[0].id_data['pos_y'][player_indices]\n",
    "    ax.scatter(pos_x, pos_y, c=np.random.rand(3,), s=1)"
   ]
  },
  {
   "cell_type": "code",
   "execution_count": null,
   "metadata": {
    "collapsed": true
   },
   "outputs": [],
   "source": [
    "class Action():\n",
    "    def __init__(self, timestamp):\n",
    "        self.timestamp = timestamp"
   ]
  },
  {
   "cell_type": "code",
   "execution_count": null,
   "metadata": {
    "collapsed": true
   },
   "outputs": [],
   "source": [
    "# Calculate next probable kill event\n",
    "# For every 1000 ticks, calculate player distances to each other and their rotations\n",
    "game = games[0]\n",
    "\n",
    "def calculateDistances(team1_positions, team2_positions):\n",
    "    # positions tuples of (x,y) positions\n",
    "    distances = np.zeros((len(team1_positions), len(team2_positions)))\n",
    "    for i in range(0, len(team1_positions)):\n",
    "        for i in range(0, len(team2_positions)):\n",
    "            if i == j:\n",
    "                \n",
    "            pos1 = np.array(team1_positions(i))\n",
    "            pos2 = np.array(team2_positions(j))\n",
    "            distance = np.linalg.norm(pos1, pos2)\n",
    "            distances[i,j] = distance\n",
    "            \n",
    "    return distances\n",
    "\n",
    "def calculateRotations(team1_rotations, team2_rotations):\n",
    "    facing = np.zeros((len(team1_rotations), len(team2_rotations)))\n",
    "    for i in range(0, len(team1_rotations)):\n",
    "        for i in range(0, len(team2_rotations)):\n",
    "            rot1 = np.array(team1_rotations(i))\n",
    "            rot2 = np.array(team2_rotations(j))\n",
    "            \n",
    "            indicator = np.dot(rot1, rot2)\n",
    "            if indicator < -0.95 and indicator > -1.05 and np.linalg.norm(rot1 + rot2) < 1:\n",
    "                facing[i,j] = 1\n",
    "    \n",
    "    return facing\n",
    "\n",
    "\n",
    "\n",
    "data = np.multiply(facing, distances)\n",
    "engagements = np.where(data < 6000)\n",
    "\n",
    "print engagements"
   ]
  },
  {
   "cell_type": "code",
   "execution_count": null,
   "metadata": {
    "collapsed": true
   },
   "outputs": [],
   "source": [
    "kill_distances = []\n",
    "for game in games:\n",
    "    for event in game.events:\n",
    "        event = game.events[event]\n",
    "        killer_pos = event.player_kill_pos(game.id_data)\n",
    "        victim_pos = event.player_death_pos(game.id_data)\n",
    "        dist = np.linalg.norm(np.array(killer_pos) - np.array(victim_pos))\n",
    "        kill_distances.append(dist)\n",
    "        \n",
    "np.average(kill_distances)"
   ]
  },
  {
   "cell_type": "code",
   "execution_count": null,
   "metadata": {},
   "outputs": [],
   "source": [
    "np.average(kill_distances)"
   ]
  },
  {
   "cell_type": "code",
   "execution_count": null,
   "metadata": {
    "collapsed": true
   },
   "outputs": [],
   "source": []
  }
 ],
 "metadata": {
  "kernelspec": {
   "display_name": "Python 2",
   "language": "python",
   "name": "python2"
  },
  "language_info": {
   "codemirror_mode": {
    "name": "ipython",
    "version": 2
   },
   "file_extension": ".py",
   "mimetype": "text/x-python",
   "name": "python",
   "nbconvert_exporter": "python",
   "pygments_lexer": "ipython2",
   "version": "2.7.10"
  }
 },
 "nbformat": 4,
 "nbformat_minor": 2
}
